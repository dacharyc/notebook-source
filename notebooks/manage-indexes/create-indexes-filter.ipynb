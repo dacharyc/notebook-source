{
 "cells": [
  {
   "cell_type": "markdown",
   "metadata": {},
   "source": [
    "# Atlas Vector Search - Create Vector Indexes - Filter Example"
   ]
  },
  {
   "cell_type": "markdown",
   "metadata": {},
   "source": [
    "This notebook is a companion for the [Create and Manage Indexes](https://www.mongodb.com/docs/atlas/atlas-vector-search/vector-search-type/) page. Refer to the page for set up steps and explanation details."
   ]
  },
  {
   "cell_type": "code",
   "execution_count": null,
   "metadata": {
    "vscode": {
     "languageId": "shellscript"
    }
   },
   "outputs": [],
   "source": [
    "pip install pymongo"
   ]
  },
  {
   "cell_type": "code",
   "execution_count": null,
   "metadata": {},
   "outputs": [],
   "source": [
    "from pymongo.mongo_client import MongoClient\n",
    "from pymongo.operations import SearchIndexModel\n",
    "\n",
    "# Connect to your Atlas deployment\n",
    "uri = \"<connectionString>\"\n",
    "client = MongoClient(uri)\n",
    "\n",
    "# Access your database and collection\n",
    "database = client[\"sample_mflix\"]\n",
    "collection = database[\"embedded_movies\"]\n",
    "\n",
    "# Create your index model, then create the search index\n",
    "search_index_model = SearchIndexModel(\n",
    "  definition={\n",
    "    \"fields\": [\n",
    "      {\n",
    "        \"type\": \"vector\",\n",
    "        \"path\": \"plot_embedding\",\n",
    "        \"numDimensions\": 1536,\n",
    "        \"similarity\": \"euclidean\"\n",
    "      },\n",
    "      {\n",
    "        \"type\": \"filter\",\n",
    "        \"path\": \"genres\"\n",
    "      },\n",
    "      {\n",
    "        \"type\": \"filter\",\n",
    "        \"path\": \"year\"\n",
    "      }\n",
    "    ]\n",
    "  },\n",
    "  name=\"vector_index\",\n",
    "  type=\"vectorSearch\",\n",
    ")\n",
    "\n",
    "result = collection.create_search_index(model=search_index_model)\n",
    "print(result)"
   ]
  }
 ],
 "metadata": {
  "language_info": {
   "name": "python"
  }
 },
 "nbformat": 4,
 "nbformat_minor": 2
}
